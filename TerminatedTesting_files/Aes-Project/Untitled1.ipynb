{
 "cells": [
  {
   "cell_type": "code",
   "execution_count": null,
   "id": "5050d856",
   "metadata": {},
   "outputs": [
    {
     "name": "stdout",
     "output_type": "stream",
     "text": [
      "\n",
      "\t\tIMAGE STEGANOGRAPHY OPERATIONS\n",
      "\n",
      "1. Encode the Text message\n",
      "2. Decode the Text message\n",
      "3. Exit\n",
      "Enter the Choice: 2\n",
      "Enter the Image you need to Decode to get the Secret message :  stego_UCD.png\n",
      "\n",
      "\n",
      "The Encoded data which was hidden in the Image was :--   By carefully examining these aspects and performing additional testing and logging, you should be able to identify the root cause of the \"Padding is incorrect\" error and resolve it. If the issue persists, please provide more details about your encryption and decryption processes, including the full code for both processes and any additional context, so that I can assist you more effectively.\n",
      "\n",
      "\n",
      "\n",
      "\t\tIMAGE STEGANOGRAPHY OPERATIONS\n",
      "\n",
      "1. Encode the Text message\n",
      "2. Decode the Text message\n",
      "3. Exit\n"
     ]
    }
   ],
   "source": [
    "import cv2\n",
    "import numpy as np\n",
    "def msgtobinary(msg):\n",
    "    if type(msg) == str:\n",
    "        result= ''.join([ format(ord(i), \"08b\") for i in msg ])\n",
    "    \n",
    "    elif type(msg) == bytes or type(msg) == np.ndarray:\n",
    "        result= [ format(i, \"08b\") for i in msg ]\n",
    "    \n",
    "    elif type(msg) == int or type(msg) == np.uint8:\n",
    "        result=format(msg, \"08b\")\n",
    "\n",
    "    else:\n",
    "        raise TypeError(\"Input type is not supported in this function\")\n",
    "    \n",
    "    return result\n",
    "\n",
    "def decode_img_data(img):\n",
    "    data_binary = \"\"\n",
    "    for i in img:\n",
    "        for pixel in i:\n",
    "            r, g, b = msgtobinary(pixel) \n",
    "            data_binary += r[-1]  \n",
    "            data_binary += g[-1]  \n",
    "            data_binary += b[-1]  \n",
    "            total_bytes = [ data_binary[i: i+8] for i in range(0, len(data_binary), 8) ]\n",
    "            decoded_data = \"\"\n",
    "            for byte in total_bytes:\n",
    "                decoded_data += chr(int(byte, 2))\n",
    "                if decoded_data[-5:] == \"*^*^*\": \n",
    "                    print(\"\\n\\nThe Encoded data which was hidden in the Image was :--  \",decoded_data[:-5])\n",
    "                    return \n",
    "\n",
    "\n",
    "# In[10]:\n",
    "\n",
    "\n",
    "def img_steg():\n",
    "    while True:\n",
    "        print(\"\\n\\t\\tIMAGE STEGANOGRAPHY OPERATIONS\\n\") \n",
    "        print(\"1. Encode the Text message\") \n",
    "        print(\"2. Decode the Text message\") \n",
    "        print(\"3. Exit\")  \n",
    "        choice1 = int(input(\"Enter the Choice: \"))   \n",
    "        if choice1 == 1:\n",
    "            image=cv2.imread(\"UCD.png\")\n",
    "            encode_img_data(image)\n",
    "        elif choice1 == 2:\n",
    "            image1=cv2.imread(input(\"Enter the Image you need to Decode to get the Secret message :  \"))\n",
    "            decode_img_data(image1)\n",
    "        elif choice1 == 3:\n",
    "            break\n",
    "        else:\n",
    "            print(\"Incorrect Choice\")\n",
    "        print(\"\\n\")\n",
    "\n",
    "img_steg()   \n"
   ]
  },
  {
   "cell_type": "code",
   "execution_count": null,
   "id": "1fe6be48",
   "metadata": {},
   "outputs": [],
   "source": []
  }
 ],
 "metadata": {
  "kernelspec": {
   "display_name": "Python 3 (ipykernel)",
   "language": "python",
   "name": "python3"
  },
  "language_info": {
   "codemirror_mode": {
    "name": "ipython",
    "version": 3
   },
   "file_extension": ".py",
   "mimetype": "text/x-python",
   "name": "python",
   "nbconvert_exporter": "python",
   "pygments_lexer": "ipython3",
   "version": "3.10.12"
  }
 },
 "nbformat": 4,
 "nbformat_minor": 5
}
