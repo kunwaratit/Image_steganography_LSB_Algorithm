{
 "cells": [
  {
   "cell_type": "code",
   "execution_count": 2,
   "id": "aedf955b",
   "metadata": {},
   "outputs": [
    {
     "name": "stdout",
     "output_type": "stream",
     "text": [
      "Original Message: This is a secret message that needs to be encrypted.\n",
      "Encrypted Message: K2BDbYN7u4vO+KFGkQmBbflccAB5Pr2Kcnx3gtQp1IklF5zw54RFDBdt4s/8eMWtGvj1HcjTMG903447fdarhioOusLcQh9WS6j5VMOp/18=\n",
      "Decrypted Message: This is a secret message that needs to be encrypted.\n"
     ]
    }
   ],
   "source": [
    "# Import the required modules\n",
    "import os\n",
    "from Crypto.Cipher import AES\n",
    "from Crypto.Util.Padding import pad, unpad\n",
    "from Crypto.Random import get_random_bytes\n",
    "from base64 import b64encode, b64decode\n",
    "\n",
    "# Define the encryption function\n",
    "def encrypt_AES_CBC_256(key, message):\n",
    "    key_bytes = key.encode('utf-8')\n",
    "    message_bytes = message.encode('utf-8')\n",
    "    iv = get_random_bytes(AES.block_size)\n",
    "    cipher = AES.new(key_bytes, AES.MODE_CBC, iv)\n",
    "    padded_message = pad(message_bytes, AES.block_size)\n",
    "    ciphertext_bytes = cipher.encrypt(padded_message)\n",
    "    ciphertext = b64encode(iv + ciphertext_bytes).decode('utf-8')\n",
    "    return ciphertext\n",
    "\n",
    "# Define the decryption function\n",
    "def decrypt_AES_CBC_256(key, ciphertext):\n",
    "    key_bytes = key.encode('utf-8')\n",
    "    ciphertext_bytes = b64decode(ciphertext)\n",
    "    iv = ciphertext_bytes[:AES.block_size]\n",
    "    cipher = AES.new(key_bytes, AES.MODE_CBC, iv)\n",
    "    ciphertext_bytes = ciphertext_bytes[AES.block_size:]\n",
    "    decrypted_bytes = cipher.decrypt(ciphertext_bytes)\n",
    "    plaintext_bytes = unpad(decrypted_bytes, AES.block_size)\n",
    "    plaintext = plaintext_bytes.decode('utf-8')\n",
    "    return plaintext\n",
    "\n",
    "# Set the 256-bit key and plaintext message\n",
    "#key = 'ThisIsASecretKeyForAES-256-CBCEncryption'\n",
    "data1 = os.urandom(16)\n",
    "key=b64encode(data1).decode('utf-8')\n",
    "message = 'This is a secret message that needs to be encrypted.'\n",
    "\n",
    "# Encrypt the message\n",
    "def encrypt(key,message):\n",
    "    encrypted_message = encrypt_AES_CBC_256(key, message)\n",
    "    return encrypted_message\n",
    "# Decrypt the message\n",
    "encrypted_message=encrypt(key,message)\n",
    "\n",
    "\n",
    "decrypted_message = decrypt_AES_CBC_256(key, encrypted_message)\n",
    "\n",
    "\n",
    "# Print the original and decrypted messages\n",
    "print('Original Message:', message)\n",
    "print('Encrypted Message:', encrypted_message)\n",
    "print('Decrypted Message:', decrypted_message)"
   ]
  },
  {
   "cell_type": "code",
   "execution_count": null,
   "id": "6db74e96",
   "metadata": {},
   "outputs": [],
   "source": []
  },
  {
   "cell_type": "code",
   "execution_count": 10,
   "id": "abd06644",
   "metadata": {},
   "outputs": [
    {
     "name": "stdout",
     "output_type": "stream",
     "text": [
      "1. Press '1' to encrypt file.\n",
      "2. Press '2' to decrypt file.\n",
      "2\n",
      "Enter name of file to decrypt: a.enc\n"
     ]
    },
    {
     "ename": "UnicodeDecodeError",
     "evalue": "'utf-8' codec can't decode byte 0x88 in position 0: invalid start byte",
     "output_type": "error",
     "traceback": [
      "\u001b[0;31m---------------------------------------------------------------------------\u001b[0m",
      "\u001b[0;31mUnicodeDecodeError\u001b[0m                        Traceback (most recent call last)",
      "Cell \u001b[0;32mIn[10], line 48\u001b[0m\n\u001b[1;32m     46\u001b[0m     enc\u001b[38;5;241m.\u001b[39mencrypt_file(\u001b[38;5;28mstr\u001b[39m(\u001b[38;5;28minput\u001b[39m(\u001b[38;5;124m\"\u001b[39m\u001b[38;5;124mEnter name of file to encrypt: \u001b[39m\u001b[38;5;124m\"\u001b[39m)))\n\u001b[1;32m     47\u001b[0m \u001b[38;5;28;01melif\u001b[39;00m choice \u001b[38;5;241m==\u001b[39m \u001b[38;5;241m2\u001b[39m:\n\u001b[0;32m---> 48\u001b[0m     \u001b[43menc\u001b[49m\u001b[38;5;241;43m.\u001b[39;49m\u001b[43mdecrypt_file\u001b[49m\u001b[43m(\u001b[49m\u001b[38;5;28;43mstr\u001b[39;49m\u001b[43m(\u001b[49m\u001b[38;5;28;43minput\u001b[39;49m\u001b[43m(\u001b[49m\u001b[38;5;124;43m\"\u001b[39;49m\u001b[38;5;124;43mEnter name of file to decrypt: \u001b[39;49m\u001b[38;5;124;43m\"\u001b[39;49m\u001b[43m)\u001b[49m\u001b[43m)\u001b[49m\u001b[43m)\u001b[49m\n\u001b[1;32m     49\u001b[0m \u001b[38;5;28;01melse\u001b[39;00m:\n\u001b[1;32m     50\u001b[0m     \u001b[38;5;28mprint\u001b[39m(\u001b[38;5;124m\"\u001b[39m\u001b[38;5;124mPlease select a valid option!\u001b[39m\u001b[38;5;124m\"\u001b[39m)\n",
      "Cell \u001b[0;32mIn[10], line 31\u001b[0m, in \u001b[0;36mEncryptor.decrypt_file\u001b[0;34m(self, file_name)\u001b[0m\n\u001b[1;32m     29\u001b[0m \u001b[38;5;28;01mdef\u001b[39;00m \u001b[38;5;21mdecrypt_file\u001b[39m(\u001b[38;5;28mself\u001b[39m, file_name):\n\u001b[1;32m     30\u001b[0m     \u001b[38;5;28;01mwith\u001b[39;00m \u001b[38;5;28mopen\u001b[39m(file_name, \u001b[38;5;124m'\u001b[39m\u001b[38;5;124mr\u001b[39m\u001b[38;5;124m'\u001b[39m) \u001b[38;5;28;01mas\u001b[39;00m fo:\n\u001b[0;32m---> 31\u001b[0m         ciphertext \u001b[38;5;241m=\u001b[39m \u001b[43mfo\u001b[49m\u001b[38;5;241;43m.\u001b[39;49m\u001b[43mread\u001b[49m\u001b[43m(\u001b[49m\u001b[43m)\u001b[49m\n\u001b[1;32m     32\u001b[0m     dec \u001b[38;5;241m=\u001b[39m \u001b[38;5;28mself\u001b[39m\u001b[38;5;241m.\u001b[39mdecrypt(ciphertext, \u001b[38;5;28mself\u001b[39m\u001b[38;5;241m.\u001b[39mkey)\n\u001b[1;32m     33\u001b[0m     \u001b[38;5;28;01mwith\u001b[39;00m \u001b[38;5;28mopen\u001b[39m(file_name[:\u001b[38;5;241m-\u001b[39m\u001b[38;5;241m4\u001b[39m], \u001b[38;5;124m'\u001b[39m\u001b[38;5;124mwb\u001b[39m\u001b[38;5;124m'\u001b[39m) \u001b[38;5;28;01mas\u001b[39;00m fo:\n",
      "File \u001b[0;32m/usr/lib/python3.10/codecs.py:322\u001b[0m, in \u001b[0;36mBufferedIncrementalDecoder.decode\u001b[0;34m(self, input, final)\u001b[0m\n\u001b[1;32m    319\u001b[0m \u001b[38;5;28;01mdef\u001b[39;00m \u001b[38;5;21mdecode\u001b[39m(\u001b[38;5;28mself\u001b[39m, \u001b[38;5;28minput\u001b[39m, final\u001b[38;5;241m=\u001b[39m\u001b[38;5;28;01mFalse\u001b[39;00m):\n\u001b[1;32m    320\u001b[0m     \u001b[38;5;66;03m# decode input (taking the buffer into account)\u001b[39;00m\n\u001b[1;32m    321\u001b[0m     data \u001b[38;5;241m=\u001b[39m \u001b[38;5;28mself\u001b[39m\u001b[38;5;241m.\u001b[39mbuffer \u001b[38;5;241m+\u001b[39m \u001b[38;5;28minput\u001b[39m\n\u001b[0;32m--> 322\u001b[0m     (result, consumed) \u001b[38;5;241m=\u001b[39m \u001b[38;5;28;43mself\u001b[39;49m\u001b[38;5;241;43m.\u001b[39;49m\u001b[43m_buffer_decode\u001b[49m\u001b[43m(\u001b[49m\u001b[43mdata\u001b[49m\u001b[43m,\u001b[49m\u001b[43m \u001b[49m\u001b[38;5;28;43mself\u001b[39;49m\u001b[38;5;241;43m.\u001b[39;49m\u001b[43merrors\u001b[49m\u001b[43m,\u001b[49m\u001b[43m \u001b[49m\u001b[43mfinal\u001b[49m\u001b[43m)\u001b[49m\n\u001b[1;32m    323\u001b[0m     \u001b[38;5;66;03m# keep undecoded input until the next call\u001b[39;00m\n\u001b[1;32m    324\u001b[0m     \u001b[38;5;28mself\u001b[39m\u001b[38;5;241m.\u001b[39mbuffer \u001b[38;5;241m=\u001b[39m data[consumed:]\n",
      "\u001b[0;31mUnicodeDecodeError\u001b[0m: 'utf-8' codec can't decode byte 0x88 in position 0: invalid start byte"
     ]
    }
   ],
   "source": [
    "\n",
    "from Crypto import Random\n",
    "class Encryptor:\n",
    "    def __init__(self, key):\n",
    "        self.key = key\n",
    "    def pad(self, s):\n",
    "        return s + b\"\\0\" * (AES.block_size - len(s) % AES.block_size)\n",
    "\n",
    "    def encrypt(self, message, key):\n",
    "        message = self.pad(message)\n",
    "        key = key.encode('utf-8')\n",
    "        iv = Random.new().read(AES.block_size)\n",
    "        cipher = AES.new(key, AES.MODE_CBC, iv)\n",
    "        return iv + cipher.encrypt(message)\n",
    "\n",
    "    def encrypt_file(self, file_name):\n",
    "        with open(file_name, 'rb') as fo:\n",
    "            plaintext = fo.read()\n",
    "        enc = self.encrypt(plaintext, self.key)\n",
    "        with open(file_name + \".enc\", 'wb') as fo:\n",
    "            fo.write(enc)\n",
    "        os.remove(file_name)\n",
    "\n",
    "    def decrypt(self, ciphertext, key):\n",
    "        iv = ciphertext[:AES.block_size]\n",
    "        cipher = AES.new(key, AES.MODE_CBC, iv)\n",
    "        plaintext = cipher.decrypt(ciphertext[AES.block_size:])\n",
    "        plaintext.rstrip(b\"\\0\")\n",
    "        pt=b64encode(data1).decode('utf-8')\n",
    "        return pt\n",
    "\n",
    "    def decrypt_file(self, file_name):\n",
    "        with open(file_name, 'r') as fo:\n",
    "            ciphertext = fo.read()\n",
    "        dec = self.decrypt(ciphertext, self.key)\n",
    "        with open(file_name[:-4], 'wb') as fo:\n",
    "            \n",
    "            fo.write(dec)\n",
    "        os.remove(file_name)\n",
    "#key = b'LEDMXIQBGNVOJRUI'\n",
    "data1 = os.urandom(16)\n",
    "key=b64encode(data1).decode('utf-8')\n",
    "enc = Encryptor(key)\n",
    "#enc.encrypt_file(str(input(\"Enter name of file to encrypt: \")))\n",
    "while True:\n",
    "        \n",
    "        choice = int(input(\"1. Press '1' to encrypt file.\\n2. Press '2' to decrypt file.\\n\"))\n",
    "       \n",
    "        if choice == 1:\n",
    "            enc.encrypt_file(str(input(\"Enter name of file to encrypt: \")))\n",
    "        elif choice == 2:\n",
    "            enc.decrypt_file(str(input(\"Enter name of file to decrypt: \")))\n",
    "        else:\n",
    "            print(\"Please select a valid option!\")\n"
   ]
  },
  {
   "cell_type": "code",
   "execution_count": null,
   "id": "a96a3843",
   "metadata": {},
   "outputs": [],
   "source": []
  },
  {
   "cell_type": "code",
   "execution_count": null,
   "id": "ba6f23eb",
   "metadata": {},
   "outputs": [],
   "source": []
  }
 ],
 "metadata": {
  "kernelspec": {
   "display_name": "Python 3 (ipykernel)",
   "language": "python",
   "name": "python3"
  },
  "language_info": {
   "codemirror_mode": {
    "name": "ipython",
    "version": 3
   },
   "file_extension": ".py",
   "mimetype": "text/x-python",
   "name": "python",
   "nbconvert_exporter": "python",
   "pygments_lexer": "ipython3",
   "version": "3.10.6"
  }
 },
 "nbformat": 4,
 "nbformat_minor": 5
}
