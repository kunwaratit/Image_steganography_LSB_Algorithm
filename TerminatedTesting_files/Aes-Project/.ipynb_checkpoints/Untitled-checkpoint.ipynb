{
 "cells": [
  {
   "cell_type": "code",
   "execution_count": null,
   "id": "a03f5938",
   "metadata": {},
   "outputs": [],
   "source": [
    "from os import urandom\n",
    "from Crypto.Cipher import AES\n",
    "\n",
    "# For Generating cipher text\n",
    "secret_key = urandom(16)\n",
    "iv = urandom(16)\n",
    "obj = AES.new(secret_key, AES.MODE_CBC, iv)\n",
    "\n",
    "# Encrypt the message\n",
    "message = 'Lorem Ipsum text'\n",
    "print('Original message is: ', message)\n",
    "encrypted_text = obj.encrypt(message.encode(\"utf-8\"))\n",
    "print('The encrypted text', encrypted_text)"
   ]
  },
  {
   "cell_type": "code",
   "execution_count": null,
   "id": "77670f04",
   "metadata": {},
   "outputs": [],
   "source": [
    "\n",
    "pip install pycryptodome"
   ]
  },
  {
   "cell_type": "code",
   "execution_count": null,
   "id": "0e68ac5f",
   "metadata": {},
   "outputs": [],
   "source": [
    "from os import urandom\n",
    "\n",
    "iv = urandom(16)\n",
    "print(iv)\n"
   ]
  },
  {
   "cell_type": "code",
   "execution_count": null,
   "id": "8de5abe3",
   "metadata": {},
   "outputs": [],
   "source": [
    "from os import urandom\n",
    "from Crypto.Cipher import AES\n",
    "\n",
    "# For Generating AES Cipher text\n",
    "secret_key = urandom(16)\n",
    "iv = urandom(16)\n",
    "obj = AES.new(secret_key, AES.MODE_CBC, iv)"
   ]
  },
  {
   "cell_type": "code",
   "execution_count": null,
   "id": "4d3a9ac9",
   "metadata": {},
   "outputs": [],
   "source": []
  },
  {
   "cell_type": "code",
   "execution_count": null,
   "id": "d26a2d22",
   "metadata": {},
   "outputs": [],
   "source": [
    " from Crypto.Cipher import AES\n",
    ">>> import random, string, base64\n",
    "\n",
    ">>> key = ''.join(random.choice(string.ascii_uppercase + string.ascii_lowercase + string.digits) for x in range(32))\n",
    ">>> iv = ''.join(random.choice(string.ascii_uppercase + string.ascii_lowercase + string.digits) for x in range(16))\n",
    "\n",
    ">>> print(key, len(key))\n",
    "\n",
    ">>> print(iv, len(iv))\n",
    "('OWFJATh1Zowac2xr', 16)\n",
    "\n",
    ">>> enc_s = AES.new(key.encode(\"utf-8\"), AES.MODE_CFB, iv.encode(\"utf-8\"))\n",
    "message=\"hello\"\n",
    ">>> cipher_text = enc_s.encrypt(message.encode(\"utf-8\"))\n",
    ">>> encoded_cipher_text = base64.b64encode(cipher_text)\n",
    ">>> print(encoded_cipher_text)\n",
    "'AtBa6zVB0UQ3U/50ogOb6g09FlyPdpmJB7UzoCqxhsQ6'"
   ]
  },
  {
   "cell_type": "code",
   "execution_count": null,
   "id": "27acfdc8",
   "metadata": {},
   "outputs": [],
   "source": [
    "# Script Name   : pycrypto.py\n",
    "# Author        : Debjyoti Guha\n",
    "# Created       : 04th July 2017\n",
    "# Last Modified\t: 12 July 2017\n",
    "# Version       : 1.0.1\n",
    "\n",
    "# Modifications : \n",
    "\n",
    "# Description   : This Will Encrypt and decrypt files with user password.\n",
    "\n",
    "from Crypto.Hash import SHA256\n",
    "from Crypto.Cipher import AES\n",
    "import os, random, sys, pkg_resources\n",
    "\n",
    "def encrypt(key, filename):\n",
    "\tchunksize = 64 * 1024\n",
    "\toutFile = os.path.join(os.path.dirname(filename), \"(encrypted)\"+os.path.basename(filename))\n",
    "\tfilesize = str(os.path.getsize(filename)).zfill(16)\n",
    "\tIV = ''\n",
    "\n",
    "\tfor i in range(16):\n",
    "\t\tIV += chr(random.randint(0, 0xFF))\n",
    "\t\n",
    "\tencryptor = AES.new(key, AES.MODE_CBC, IV)\n",
    "\n",
    "\twith open(filename, \"rb\") as infile:\n",
    "\t\twith open(outFile, \"wb\") as outfile:\n",
    "\t\t\toutfile.write(filesize)\n",
    "\t\t\toutfile.write(IV)\n",
    "\t\t\twhile True:\n",
    "\t\t\t\tchunk = infile.read(chunksize)\n",
    "\t\t\t\t\n",
    "\t\t\t\tif len(chunk) == 0:\n",
    "\t\t\t\t\tbreak\n",
    "\n",
    "\t\t\t\telif len(chunk) % 16 !=0:\n",
    "\t\t\t\t\tchunk += ' ' *  (16 - (len(chunk) % 16))\n",
    "\n",
    "\t\t\t\toutfile.write(encryptor.encrypt(chunk))\n",
    "\n",
    "\n",
    "def decrypt(key, filename):\n",
    "\toutFile = os.path.join(os.path.dirname(filename), os.path.basename(filename[11:]))\n",
    "\tchunksize = 64 * 1024\n",
    "\twith open(filename, \"rb\") as infile:\n",
    "\t\tfilesize = infile.read(16)\n",
    "\t\tIV = infile.read(16)\n",
    "\n",
    "\t\tdecryptor = AES.new(key, AES.MODE_CBC, IV)\n",
    "\t\t\n",
    "\t\twith open(outFile, \"wb\") as outfile:\n",
    "\t\t\twhile True:\n",
    "\t\t\t\tchunk = infile.read(chunksize)\n",
    "\t\t\t\tif len(chunk) == 0:\n",
    "\t\t\t\t\tbreak\n",
    "\n",
    "\t\t\t\toutfile.write(decryptor.decrypt(chunk))\n",
    "\n",
    "\t\t\toutfile.truncate(int(filesize))\n",
    "\t\n",
    "def allfiles():\n",
    "\tallFiles = []\n",
    "\tfor root, subfiles, files in os.walk(os.getcwd()):\n",
    "\t\tfor names in files:\n",
    "\t\t\tallFiles.append(os.path.join(root, names))\n",
    "\n",
    "\treturn allFiles\n",
    "\n",
    "\t\n",
    "choice = input(\"Do you want to (E)ncrypt or (D)ecrypt? *Case Sensitive* \\n\")\n",
    "password = input(\"Enter the password: \\n\")\n",
    "\n",
    "encFiles = allfiles()\n",
    "\n",
    "if choice == \"E\":\n",
    "\tfor Tfiles in encFiles:\t\n",
    "\t\tif os.path.basename(Tfiles).startswith(\"(encrypted)\"):\n",
    "\t\t\tprint (\"%s is already encrypted\" %str(Tfiles))\n",
    "\t\t\tpass\n",
    "\n",
    "\t\telif Tfiles == os.path.join(os.getcwd(), sys.argv[0]):\n",
    "\t\t\tpass \n",
    "\t\telse:\n",
    "\t\t\tencrypt(SHA256.new(password).digest(), str(Tfiles))\n",
    "\t\t\tprint (\"Done encrypting %s\" %str(Tfiles))\n",
    "\t\t\tos.remove(Tfiles)\n",
    "\n",
    "\n",
    "elif choice == \"D\":\n",
    "\tfilename = input(\"Enter the filename to decrypt: \")\n",
    "\tif not os.path.exists(filename):\n",
    "\t\tprint (\"The file does not exist\")\n",
    "\t\tsys.exit(0)\n",
    "\telif not filename.startswith(\"(encrypted)\"):\n",
    "\t\tprint (\"%s is already not encrypted\" %filename)\n",
    "\t\tsys.exit()\n",
    "\telse:\n",
    "\t\tdecrypt(SHA256.new(password).digest(), filename)\n",
    "\t\tprint (\"Done decrypting %s\" %filename)\n",
    "\t\tos.remove(filename)\n",
    "\n",
    "else:\n",
    "\tprint (\"Please choose a valid command.\")\n",
    "\tsys.exit()"
   ]
  },
  {
   "cell_type": "code",
   "execution_count": null,
   "id": "b739b388",
   "metadata": {},
   "outputs": [],
   "source": [
    "pip install AES\n"
   ]
  },
  {
   "cell_type": "code",
   "execution_count": null,
   "id": "69990754",
   "metadata": {},
   "outputs": [],
   "source": [
    "pip install SHA256"
   ]
  },
  {
   "cell_type": "code",
   "execution_count": 21,
   "id": "5fbdfc92",
   "metadata": {},
   "outputs": [
    {
     "name": "stdout",
     "output_type": "stream",
     "text": [
      "as b'S\\xfbz\\t?\\xcb\\xa8\\x95\\xa0\\xd5HFP\\x14\\x83\\x81'\n",
      "b'S\\xfbz\\t?\\xcb\\xa8\\x95\\xa0\\xd5HFP\\x14\\x83\\x81\\x04\\xf8g{D\\xc5\\x84\\x93;E\\x9aa#\\xb2\\xe4\\xfa'\n",
      "--------------------\n",
      "\n",
      "as b'S\\xfbz\\t?\\xcb\\xa8\\x95\\xa0\\xd5HFP\\x14\\x83\\x81'\n",
      "b'atot000000000000'\n"
     ]
    }
   ],
   "source": [
    "\n",
    "import os\n",
    "from Crypto import Random\n",
    "from Crypto.Cipher import AES\n",
    "\n",
    "class AESCipher:\n",
    "    def __init__(self, key):\n",
    "        self.key=key\n",
    "\n",
    "    def pad(self, s):\n",
    "        return s + \"0\" * (AES.block_size - len(s) % AES.block_size)\n",
    "\n",
    "    def encrypt(self, message, key, key_size=256):\n",
    "        message = self.pad(message)\n",
    "        iv = Random.new().read(AES.block_size)\n",
    "        print(\"as\",iv)\n",
    "        cipher = AES.new(key, AES.MODE_CBC, iv)\n",
    "        return iv + cipher.encrypt(message.encode(\"utf-8\"))\n",
    "\n",
    "    def decrypt(self, ciphertext, key):\n",
    "        iv = ciphertext[:AES.block_size]\n",
    "        print(\"as\",iv)\n",
    "        cipher = AES.new(key, AES.MODE_CBC, iv)\n",
    "        plaintext = cipher.decrypt(ciphertext[AES.block_size:])\n",
    "        pt=plaintext.rstrip(b\"\\0\")\n",
    "        return pt\n",
    "\n",
    "def send_data(data):\n",
    "    key = os.urandom(16)\n",
    "    cipher = AESCipher(key)\n",
    "    ciphertext = cipher.encrypt(data, key)\n",
    "    return key, ciphertext\n",
    "\n",
    "def receive_data(key, data):\n",
    "    cipher = AESCipher(key)\n",
    "    decrypted = cipher.decrypt(data, key)\n",
    "    return decrypted\n",
    "\n",
    "data1 = \"atot\"\n",
    "#data=data1.encode(\"utf-8\")\n",
    "key, ciphertext = send_data(data1)\n",
    "print(ciphertext)\n",
    "print(\"--------------------\\n\")\n",
    "decrypt=receive_data(key,ciphertext)\n",
    "print(str(decrypt))"
   ]
  },
  {
   "cell_type": "code",
   "execution_count": null,
   "id": "c15e1f74",
   "metadata": {},
   "outputs": [],
   "source": []
  },
  {
   "cell_type": "code",
   "execution_count": null,
   "id": "1b5288c4",
   "metadata": {},
   "outputs": [],
   "source": [
    "pip uninstall pycryptodome\n"
   ]
  },
  {
   "cell_type": "code",
   "execution_count": null,
   "id": "aed090f9",
   "metadata": {},
   "outputs": [],
   "source": [
    "key = urandom(16)\n",
    "IV=urandom(16)\n",
    "mode = AES.MODE_CBC\n",
    "#encode the key and IV\n",
    "\n",
    "encryptor = AES.new(key, mode,IV=IV)\n",
    "# pad the text to 16bytes\n",
    "text = 'hello'\n",
    "padded_text = text +\"\\0\"*(AES.block_size - len(text) % AES.block_size)\n",
    "print(padded_text)\n",
    "#encode the text\n",
    "ciphertext = encryptor.encrypt(padded_text.encode(\"utf-8\"))\n",
    "\n",
    "print(ciphertext)\n"
   ]
  },
  {
   "cell_type": "code",
   "execution_count": 29,
   "id": "93820e1d",
   "metadata": {},
   "outputs": [],
   "source": [
    "def pad(self, s):\n",
    "        return s + \"0\" * (AES.block_size - len(s) % AES.block_size)\n"
   ]
  },
  {
   "cell_type": "code",
   "execution_count": 11,
   "id": "cb029503",
   "metadata": {},
   "outputs": [
    {
     "ename": "AttributeError",
     "evalue": "'bytes' object has no attribute 'encode'",
     "output_type": "error",
     "traceback": [
      "\u001b[0;31m---------------------------------------------------------------------------\u001b[0m",
      "\u001b[0;31mAttributeError\u001b[0m                            Traceback (most recent call last)",
      "Cell \u001b[0;32mIn[11], line 36\u001b[0m\n\u001b[1;32m     33\u001b[0m message \u001b[38;5;241m=\u001b[39m \u001b[38;5;124m'\u001b[39m\u001b[38;5;124mThis is a secret message that needs to be encrypted.\u001b[39m\u001b[38;5;124m'\u001b[39m\n\u001b[1;32m     35\u001b[0m \u001b[38;5;66;03m# Encrypt the message\u001b[39;00m\n\u001b[0;32m---> 36\u001b[0m encrypted_message \u001b[38;5;241m=\u001b[39m \u001b[43mencrypt_AES_CBC_256\u001b[49m\u001b[43m(\u001b[49m\u001b[43mkey\u001b[49m\u001b[43m,\u001b[49m\u001b[43m \u001b[49m\u001b[43mmessage\u001b[49m\u001b[43m)\u001b[49m\n\u001b[1;32m     38\u001b[0m \u001b[38;5;66;03m# Decrypt the message\u001b[39;00m\n\u001b[1;32m     39\u001b[0m decrypted_message \u001b[38;5;241m=\u001b[39m decrypt_AES_CBC_256(key, encrypted_message)\n",
      "Cell \u001b[0;32mIn[11], line 9\u001b[0m, in \u001b[0;36mencrypt_AES_CBC_256\u001b[0;34m(key, message)\u001b[0m\n\u001b[1;32m      8\u001b[0m \u001b[38;5;28;01mdef\u001b[39;00m \u001b[38;5;21mencrypt_AES_CBC_256\u001b[39m(key, message):\n\u001b[0;32m----> 9\u001b[0m     key_bytes \u001b[38;5;241m=\u001b[39m \u001b[43mkey\u001b[49m\u001b[38;5;241;43m.\u001b[39;49m\u001b[43mencode\u001b[49m(\u001b[38;5;124m'\u001b[39m\u001b[38;5;124mutf-8\u001b[39m\u001b[38;5;124m'\u001b[39m)\n\u001b[1;32m     10\u001b[0m     message_bytes \u001b[38;5;241m=\u001b[39m message\u001b[38;5;241m.\u001b[39mencode(\u001b[38;5;124m'\u001b[39m\u001b[38;5;124mutf-8\u001b[39m\u001b[38;5;124m'\u001b[39m)\n\u001b[1;32m     11\u001b[0m     iv \u001b[38;5;241m=\u001b[39m get_random_bytes(AES\u001b[38;5;241m.\u001b[39mblock_size)\n",
      "\u001b[0;31mAttributeError\u001b[0m: 'bytes' object has no attribute 'encode'"
     ]
    }
   ],
   "source": [
    "# Import the required modules\n",
    "from Crypto.Cipher import AES\n",
    "from Crypto.Util.Padding import pad, unpad\n",
    "from Crypto.Random import get_random_bytes\n",
    "from base64 import b64encode, b64decode\n",
    "\n",
    "# Define the encryption function\n",
    "def encrypt_AES_CBC_256(key, message):\n",
    "    key_bytes = key.encode('utf-8')\n",
    "    message_bytes = message.encode('utf-8')\n",
    "    iv = get_random_bytes(AES.block_size)\n",
    "    cipher = AES.new(key_bytes, AES.MODE_CBC, iv)\n",
    "    padded_message = pad(message_bytes, AES.block_size)\n",
    "    ciphertext_bytes = cipher.encrypt(padded_message)\n",
    "    ciphertext = b64encode(iv + ciphertext_bytes).decode('utf-8')\n",
    "    return ciphertext\n",
    "\n",
    "# Define the decryption function\n",
    "def decrypt_AES_CBC_256(key, ciphertext):\n",
    "    key_bytes = key.encode('utf-8')\n",
    "    ciphertext_bytes = b64decode(ciphertext)\n",
    "    iv = ciphertext_bytes[:AES.block_size]\n",
    "    cipher = AES.new(key_bytes, AES.MODE_CBC, iv)\n",
    "    ciphertext_bytes = ciphertext_bytes[AES.block_size:]\n",
    "    decrypted_bytes = cipher.decrypt(ciphertext_bytes)\n",
    "    plaintext_bytes = unpad(decrypted_bytes, AES.block_size)\n",
    "    plaintext = plaintext_bytes.decode('utf-8')\n",
    "    return plaintext\n",
    "\n",
    "# Set the 256-bit key and plaintext message\n",
    "#key = 'ThisIsASecretKeyForAES-256-CBCEncryption'\n",
    "data1 = os.urandom(16)\n",
    "key=b64encode(data1).decode('utf-8')\n",
    "message = 'This is a secret message that needs to be encrypted.'\n",
    "\n",
    "# Encrypt the message\n",
    "encrypted_message = encrypt_AES_CBC_256(key, message)\n",
    "\n",
    "# Decrypt the message\n",
    "decrypted_message = decrypt_AES_CBC_256(key, encrypted_message)\n",
    "\n",
    "# Print the original and decrypted messages\n",
    "print('Original Message:', message)\n",
    "print('Encrypted Message:', encrypted_message)\n",
    "print('Decrypted Message:', decrypted_message)"
   ]
  },
  {
   "cell_type": "code",
   "execution_count": 19,
   "id": "9b3c0d54",
   "metadata": {},
   "outputs": [
    {
     "name": "stdout",
     "output_type": "stream",
     "text": [
      "V/VZ4jwrlRwifg9WEBtaDg==\n"
     ]
    },
    {
     "data": {
      "text/plain": [
       "str"
      ]
     },
     "execution_count": 19,
     "metadata": {},
     "output_type": "execute_result"
    }
   ],
   "source": [
    "import os\n",
    "import codecs\n",
    "\n",
    "data1 = os.urandom(16)\n",
    "key=b64encode(data1).decode('utf-8')\n",
    "print(key)\n",
    "type(key)\n"
   ]
  },
  {
   "cell_type": "code",
   "execution_count": 47,
   "id": "fca887cf",
   "metadata": {},
   "outputs": [
    {
     "data": {
      "text/plain": [
       "str"
      ]
     },
     "execution_count": 47,
     "metadata": {},
     "output_type": "execute_result"
    }
   ],
   "source": [
    "key = 'ThisIsASecretKeyForAES-256-CBCEncryption'\n",
    "type(key)\n"
   ]
  },
  {
   "cell_type": "code",
   "execution_count": 15,
   "id": "623c3e11",
   "metadata": {},
   "outputs": [
    {
     "name": "stdout",
     "output_type": "stream",
     "text": [
      "\n",
      "Input:\n",
      "43Pnh0ccU7cfN49qIKWnlw==\n",
      "<class 'str'>\n"
     ]
    },
    {
     "ename": "TypeError",
     "evalue": "decoding with 'utf-8' codec failed (TypeError: a bytes-like object is required, not 'str')",
     "output_type": "error",
     "traceback": [
      "\u001b[0;31m---------------------------------------------------------------------------\u001b[0m",
      "\u001b[0;31mTypeError\u001b[0m                                 Traceback (most recent call last)",
      "File \u001b[0;32m/usr/lib/python3.10/encodings/utf_8.py:16\u001b[0m, in \u001b[0;36mdecode\u001b[0;34m(input, errors)\u001b[0m\n\u001b[1;32m     15\u001b[0m \u001b[38;5;28;01mdef\u001b[39;00m \u001b[38;5;21mdecode\u001b[39m(\u001b[38;5;28minput\u001b[39m, errors\u001b[38;5;241m=\u001b[39m\u001b[38;5;124m'\u001b[39m\u001b[38;5;124mstrict\u001b[39m\u001b[38;5;124m'\u001b[39m):\n\u001b[0;32m---> 16\u001b[0m     \u001b[38;5;28;01mreturn\u001b[39;00m \u001b[43mcodecs\u001b[49m\u001b[38;5;241;43m.\u001b[39;49m\u001b[43mutf_8_decode\u001b[49m\u001b[43m(\u001b[49m\u001b[38;5;28;43minput\u001b[39;49m\u001b[43m,\u001b[49m\u001b[43m \u001b[49m\u001b[43merrors\u001b[49m\u001b[43m,\u001b[49m\u001b[43m \u001b[49m\u001b[38;5;28;43;01mTrue\u001b[39;49;00m\u001b[43m)\u001b[49m\n",
      "\u001b[0;31mTypeError\u001b[0m: a bytes-like object is required, not 'str'",
      "\nThe above exception was the direct cause of the following exception:\n",
      "\u001b[0;31mTypeError\u001b[0m                                 Traceback (most recent call last)",
      "Cell \u001b[0;32mIn[15], line 15\u001b[0m\n\u001b[1;32m     12\u001b[0m \u001b[38;5;28mprint\u001b[39m(\u001b[38;5;28mtype\u001b[39m(data))\n\u001b[1;32m     14\u001b[0m \u001b[38;5;66;03m# converting\u001b[39;00m\n\u001b[0;32m---> 15\u001b[0m output \u001b[38;5;241m=\u001b[39m \u001b[43mcodecs\u001b[49m\u001b[38;5;241;43m.\u001b[39;49m\u001b[43mdecode\u001b[49m\u001b[43m(\u001b[49m\u001b[43mdata\u001b[49m\u001b[43m)\u001b[49m\n\u001b[1;32m     17\u001b[0m \u001b[38;5;66;03m# display output\u001b[39;00m\n\u001b[1;32m     18\u001b[0m \u001b[38;5;28mprint\u001b[39m(\u001b[38;5;124m'\u001b[39m\u001b[38;5;130;01m\\n\u001b[39;00m\u001b[38;5;124mOutput:\u001b[39m\u001b[38;5;124m'\u001b[39m)\n",
      "\u001b[0;31mTypeError\u001b[0m: decoding with 'utf-8' codec failed (TypeError: a bytes-like object is required, not 'str')"
     ]
    }
   ],
   "source": []
  },
  {
   "cell_type": "code",
   "execution_count": 14,
   "id": "976b85fb",
   "metadata": {},
   "outputs": [
    {
     "name": "stdout",
     "output_type": "stream",
     "text": [
      "b'\\x9cQ\\x904\\x90*\\x7f\\x8b\\xd7\\x0fD\\x9e>@l\\xdad\\xf8^\\xd2\\xd51\\xb8U\\x9b\\x08\\xa4\\xcc\\x9d\\x93\\xa5m\\xd8\\xa78\\x05z\\xbb\\xad\\x84-?\\x98\\x92\\x95\\xc7\\x8d\\x8a\\x11\\x142<\\xeb`_\\xdf\"\\xf2O\\x16:\\x15\\x18\\x93'\n",
      "nFGQNJAqf4vXD0SePkBs2mT4XtLVMbhVmwikzJ2TpW3YpzgFeruthC0/mJKVx42KERQyPOtgX98i8k8WOhUYkw==\n"
     ]
    }
   ],
   "source": [
    "from base64 import b64encode\n",
    "from os import urandom\n",
    "\n",
    "random_bytes = urandom(64)\n",
    "token = b64encode(random_bytes).decode('utf-8')\n",
    "print(random_bytes)\n",
    "print(token)"
   ]
  },
  {
   "cell_type": "code",
   "execution_count": null,
   "id": "ba7e4691",
   "metadata": {},
   "outputs": [],
   "source": []
  }
 ],
 "metadata": {
  "kernelspec": {
   "display_name": "Python 3 (ipykernel)",
   "language": "python",
   "name": "python3"
  },
  "language_info": {
   "codemirror_mode": {
    "name": "ipython",
    "version": 3
   },
   "file_extension": ".py",
   "mimetype": "text/x-python",
   "name": "python",
   "nbconvert_exporter": "python",
   "pygments_lexer": "ipython3",
   "version": "3.10.6"
  }
 },
 "nbformat": 4,
 "nbformat_minor": 5
}
