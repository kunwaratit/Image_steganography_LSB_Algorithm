{
 "cells": [
  {
   "cell_type": "code",
   "execution_count": 1,
   "id": "aedf955b",
   "metadata": {},
   "outputs": [
    {
     "name": "stdout",
     "output_type": "stream",
     "text": [
      "Original Message: This is a secret message that needs to be encrypted.\n",
      "Encrypted Message: 1NieAd3+jinETehQzBjx+POgik2MIxUmyYf75qCe5HDf9POyEouwq8B31We2Y71TdavT9G6uGwKS629DCtUYZmOLMTgG2QMyfLBDVKio+JE=\n",
      "Decrypted Message: This is a secret message that needs to be encrypted.\n"
     ]
    }
   ],
   "source": [
    "# Import the required modules\n",
    "import os\n",
    "from Crypto.Cipher import AES\n",
    "from Crypto.Util.Padding import pad, unpad\n",
    "from Crypto.Random import get_random_bytes\n",
    "from base64 import b64encode, b64decode\n",
    "\n",
    "# Define the encryption function\n",
    "def encrypt_AES_CBC_256(key, message):\n",
    "    key_bytes = key.encode('utf-8')\n",
    "    message_bytes = message.encode('utf-8')\n",
    "    iv = get_random_bytes(AES.block_size)\n",
    "    cipher = AES.new(key_bytes, AES.MODE_CBC, iv)\n",
    "    padded_message = pad(message_bytes, AES.block_size)\n",
    "    ciphertext_bytes = cipher.encrypt(padded_message)\n",
    "    ciphertext = b64encode(iv + ciphertext_bytes).decode('utf-8')\n",
    "    return ciphertext\n",
    "\n",
    "# Define the decryption function\n",
    "def decrypt_AES_CBC_256(key, ciphertext):\n",
    "    key_bytes = key.encode('utf-8')\n",
    "    ciphertext_bytes = b64decode(ciphertext)\n",
    "    iv = ciphertext_bytes[:AES.block_size]\n",
    "    cipher = AES.new(key_bytes, AES.MODE_CBC, iv)\n",
    "    ciphertext_bytes = ciphertext_bytes[AES.block_size:]\n",
    "    decrypted_bytes = cipher.decrypt(ciphertext_bytes)\n",
    "    plaintext_bytes = unpad(decrypted_bytes, AES.block_size)\n",
    "    plaintext = plaintext_bytes.decode('utf-8')\n",
    "    return plaintext\n",
    "\n",
    "# Set the 256-bit key and plaintext message\n",
    "#key = 'ThisIsASecretKeyForAES-256-CBCEncryption'\n",
    "data1 = os.urandom(16)\n",
    "key=b64encode(data1).decode('utf-8')\n",
    "message = 'This is a secret message that needs to be encrypted.'\n",
    "\n",
    "# Encrypt the message\n",
    "def encrypt(key,message):\n",
    "    encrypted_message = encrypt_AES_CBC_256(key, message)\n",
    "    return encrypted_message\n",
    "# Decrypt the message\n",
    "encrypted_message=encrypt(key,message)\n",
    "\n",
    "\n",
    "decrypted_message = decrypt_AES_CBC_256(key, encrypted_message)\n",
    "\n",
    "\n",
    "# Print the original and decrypted messages\n",
    "print('Original Message:', message)\n",
    "print('Encrypted Message:', encrypted_message)\n",
    "print('Decrypted Message:', decrypted_message)"
   ]
  },
  {
   "cell_type": "code",
   "execution_count": null,
   "id": "6db74e96",
   "metadata": {},
   "outputs": [],
   "source": []
  },
  {
   "cell_type": "code",
   "execution_count": 7,
   "id": "abd06644",
   "metadata": {},
   "outputs": [
    {
     "name": "stdout",
     "output_type": "stream",
     "text": [
      "Enter name of file to encrypt: atit.txt\n"
     ]
    },
    {
     "ename": "TypeError",
     "evalue": "Object type <class 'str'> cannot be passed to C code",
     "output_type": "error",
     "traceback": [
      "\u001b[0;31m---------------------------------------------------------------------------\u001b[0m",
      "\u001b[0;31mTypeError\u001b[0m                                 Traceback (most recent call last)",
      "Cell \u001b[0;32mIn[7], line 27\u001b[0m\n\u001b[1;32m     25\u001b[0m key\u001b[38;5;241m=\u001b[39mb64encode(data1)\u001b[38;5;241m.\u001b[39mdecode(\u001b[38;5;124m'\u001b[39m\u001b[38;5;124mutf-8\u001b[39m\u001b[38;5;124m'\u001b[39m)\n\u001b[1;32m     26\u001b[0m enc \u001b[38;5;241m=\u001b[39m Encryptor(key)\n\u001b[0;32m---> 27\u001b[0m \u001b[43menc\u001b[49m\u001b[38;5;241;43m.\u001b[39;49m\u001b[43mencrypt_file\u001b[49m\u001b[43m(\u001b[49m\u001b[38;5;28;43mstr\u001b[39;49m\u001b[43m(\u001b[49m\u001b[38;5;28;43minput\u001b[39;49m\u001b[43m(\u001b[49m\u001b[38;5;124;43m\"\u001b[39;49m\u001b[38;5;124;43mEnter name of file to encrypt: \u001b[39;49m\u001b[38;5;124;43m\"\u001b[39;49m\u001b[43m)\u001b[49m\u001b[43m)\u001b[49m\u001b[43m)\u001b[49m\n",
      "Cell \u001b[0;32mIn[7], line 17\u001b[0m, in \u001b[0;36mEncryptor.encrypt_file\u001b[0;34m(self, file_name)\u001b[0m\n\u001b[1;32m     15\u001b[0m \u001b[38;5;28;01mwith\u001b[39;00m \u001b[38;5;28mopen\u001b[39m(file_name, \u001b[38;5;124m'\u001b[39m\u001b[38;5;124mrb\u001b[39m\u001b[38;5;124m'\u001b[39m) \u001b[38;5;28;01mas\u001b[39;00m fo:\n\u001b[1;32m     16\u001b[0m     plaintext \u001b[38;5;241m=\u001b[39m fo\u001b[38;5;241m.\u001b[39mread()\n\u001b[0;32m---> 17\u001b[0m enc \u001b[38;5;241m=\u001b[39m \u001b[38;5;28;43mself\u001b[39;49m\u001b[38;5;241;43m.\u001b[39;49m\u001b[43mencrypt\u001b[49m\u001b[43m(\u001b[49m\u001b[43mplaintext\u001b[49m\u001b[43m,\u001b[49m\u001b[43m \u001b[49m\u001b[38;5;28;43mself\u001b[39;49m\u001b[38;5;241;43m.\u001b[39;49m\u001b[43mkey\u001b[49m\u001b[43m)\u001b[49m\n\u001b[1;32m     18\u001b[0m \u001b[38;5;28;01mwith\u001b[39;00m \u001b[38;5;28mopen\u001b[39m(file_name \u001b[38;5;241m+\u001b[39m \u001b[38;5;124m\"\u001b[39m\u001b[38;5;124m.enc\u001b[39m\u001b[38;5;124m\"\u001b[39m, \u001b[38;5;124m'\u001b[39m\u001b[38;5;124mwb\u001b[39m\u001b[38;5;124m'\u001b[39m) \u001b[38;5;28;01mas\u001b[39;00m fo:\n\u001b[1;32m     19\u001b[0m     fo\u001b[38;5;241m.\u001b[39mwrite(enc)\n",
      "Cell \u001b[0;32mIn[7], line 11\u001b[0m, in \u001b[0;36mEncryptor.encrypt\u001b[0;34m(self, message, key)\u001b[0m\n\u001b[1;32m      9\u001b[0m message \u001b[38;5;241m=\u001b[39m \u001b[38;5;28mself\u001b[39m\u001b[38;5;241m.\u001b[39mpad(message)\n\u001b[1;32m     10\u001b[0m iv \u001b[38;5;241m=\u001b[39m Random\u001b[38;5;241m.\u001b[39mnew()\u001b[38;5;241m.\u001b[39mread(AES\u001b[38;5;241m.\u001b[39mblock_size)\n\u001b[0;32m---> 11\u001b[0m cipher \u001b[38;5;241m=\u001b[39m \u001b[43mAES\u001b[49m\u001b[38;5;241;43m.\u001b[39;49m\u001b[43mnew\u001b[49m\u001b[43m(\u001b[49m\u001b[43mkey\u001b[49m\u001b[43m,\u001b[49m\u001b[43m \u001b[49m\u001b[43mAES\u001b[49m\u001b[38;5;241;43m.\u001b[39;49m\u001b[43mMODE_CBC\u001b[49m\u001b[43m,\u001b[49m\u001b[43m \u001b[49m\u001b[43miv\u001b[49m\u001b[43m)\u001b[49m\n\u001b[1;32m     12\u001b[0m \u001b[38;5;28;01mreturn\u001b[39;00m iv \u001b[38;5;241m+\u001b[39m cipher\u001b[38;5;241m.\u001b[39mencrypt(message)\n",
      "File \u001b[0;32m~/.local/lib/python3.10/site-packages/Crypto/Cipher/AES.py:228\u001b[0m, in \u001b[0;36mnew\u001b[0;34m(key, mode, *args, **kwargs)\u001b[0m\n\u001b[1;32m    128\u001b[0m \u001b[38;5;250m\u001b[39m\u001b[38;5;124;03m\"\"\"Create a new AES cipher.\u001b[39;00m\n\u001b[1;32m    129\u001b[0m \n\u001b[1;32m    130\u001b[0m \u001b[38;5;124;03mArgs:\u001b[39;00m\n\u001b[0;32m   (...)\u001b[0m\n\u001b[1;32m    224\u001b[0m \u001b[38;5;124;03m    an AES object, of the applicable mode.\u001b[39;00m\n\u001b[1;32m    225\u001b[0m \u001b[38;5;124;03m\"\"\"\u001b[39;00m\n\u001b[1;32m    227\u001b[0m kwargs[\u001b[38;5;124m\"\u001b[39m\u001b[38;5;124madd_aes_modes\u001b[39m\u001b[38;5;124m\"\u001b[39m] \u001b[38;5;241m=\u001b[39m \u001b[38;5;28;01mTrue\u001b[39;00m\n\u001b[0;32m--> 228\u001b[0m \u001b[38;5;28;01mreturn\u001b[39;00m \u001b[43m_create_cipher\u001b[49m\u001b[43m(\u001b[49m\u001b[43msys\u001b[49m\u001b[38;5;241;43m.\u001b[39;49m\u001b[43mmodules\u001b[49m\u001b[43m[\u001b[49m\u001b[38;5;18;43m__name__\u001b[39;49m\u001b[43m]\u001b[49m\u001b[43m,\u001b[49m\u001b[43m \u001b[49m\u001b[43mkey\u001b[49m\u001b[43m,\u001b[49m\u001b[43m \u001b[49m\u001b[43mmode\u001b[49m\u001b[43m,\u001b[49m\u001b[43m \u001b[49m\u001b[38;5;241;43m*\u001b[39;49m\u001b[43margs\u001b[49m\u001b[43m,\u001b[49m\u001b[43m \u001b[49m\u001b[38;5;241;43m*\u001b[39;49m\u001b[38;5;241;43m*\u001b[39;49m\u001b[43mkwargs\u001b[49m\u001b[43m)\u001b[49m\n",
      "File \u001b[0;32m~/.local/lib/python3.10/site-packages/Crypto/Cipher/__init__.py:79\u001b[0m, in \u001b[0;36m_create_cipher\u001b[0;34m(factory, key, mode, *args, **kwargs)\u001b[0m\n\u001b[1;32m     76\u001b[0m     \u001b[38;5;28;01melif\u001b[39;00m mode \u001b[38;5;241m==\u001b[39m \u001b[38;5;241m1\u001b[39m:\n\u001b[1;32m     77\u001b[0m         \u001b[38;5;28;01mraise\u001b[39;00m \u001b[38;5;167;01mTypeError\u001b[39;00m(\u001b[38;5;124m\"\u001b[39m\u001b[38;5;124mIV is not meaningful for the ECB mode\u001b[39m\u001b[38;5;124m\"\u001b[39m)\n\u001b[0;32m---> 79\u001b[0m \u001b[38;5;28;01mreturn\u001b[39;00m \u001b[43mmodes\u001b[49m\u001b[43m[\u001b[49m\u001b[43mmode\u001b[49m\u001b[43m]\u001b[49m\u001b[43m(\u001b[49m\u001b[43mfactory\u001b[49m\u001b[43m,\u001b[49m\u001b[43m \u001b[49m\u001b[38;5;241;43m*\u001b[39;49m\u001b[38;5;241;43m*\u001b[39;49m\u001b[43mkwargs\u001b[49m\u001b[43m)\u001b[49m\n",
      "File \u001b[0;32m~/.local/lib/python3.10/site-packages/Crypto/Cipher/_mode_cbc.py:274\u001b[0m, in \u001b[0;36m_create_cbc_cipher\u001b[0;34m(factory, **kwargs)\u001b[0m\n\u001b[1;32m    255\u001b[0m \u001b[38;5;28;01mdef\u001b[39;00m \u001b[38;5;21m_create_cbc_cipher\u001b[39m(factory, \u001b[38;5;241m*\u001b[39m\u001b[38;5;241m*\u001b[39mkwargs):\n\u001b[1;32m    256\u001b[0m \u001b[38;5;250m    \u001b[39m\u001b[38;5;124;03m\"\"\"Instantiate a cipher object that performs CBC encryption/decryption.\u001b[39;00m\n\u001b[1;32m    257\u001b[0m \n\u001b[1;32m    258\u001b[0m \u001b[38;5;124;03m    :Parameters:\u001b[39;00m\n\u001b[0;32m   (...)\u001b[0m\n\u001b[1;32m    271\u001b[0m \u001b[38;5;124;03m    to be present).\u001b[39;00m\n\u001b[1;32m    272\u001b[0m \u001b[38;5;124;03m    \"\"\"\u001b[39;00m\n\u001b[0;32m--> 274\u001b[0m     cipher_state \u001b[38;5;241m=\u001b[39m \u001b[43mfactory\u001b[49m\u001b[38;5;241;43m.\u001b[39;49m\u001b[43m_create_base_cipher\u001b[49m\u001b[43m(\u001b[49m\u001b[43mkwargs\u001b[49m\u001b[43m)\u001b[49m\n\u001b[1;32m    275\u001b[0m     iv \u001b[38;5;241m=\u001b[39m kwargs\u001b[38;5;241m.\u001b[39mpop(\u001b[38;5;124m\"\u001b[39m\u001b[38;5;124mIV\u001b[39m\u001b[38;5;124m\"\u001b[39m, \u001b[38;5;28;01mNone\u001b[39;00m)\n\u001b[1;32m    276\u001b[0m     IV \u001b[38;5;241m=\u001b[39m kwargs\u001b[38;5;241m.\u001b[39mpop(\u001b[38;5;124m\"\u001b[39m\u001b[38;5;124miv\u001b[39m\u001b[38;5;124m\"\u001b[39m, \u001b[38;5;28;01mNone\u001b[39;00m)\n",
      "File \u001b[0;32m~/.local/lib/python3.10/site-packages/Crypto/Cipher/AES.py:100\u001b[0m, in \u001b[0;36m_create_base_cipher\u001b[0;34m(dict_parameters)\u001b[0m\n\u001b[1;32m     97\u001b[0m     stop_operation \u001b[38;5;241m=\u001b[39m _raw_aes_lib\u001b[38;5;241m.\u001b[39mAES_stop_operation\n\u001b[1;32m     99\u001b[0m cipher \u001b[38;5;241m=\u001b[39m VoidPointer()\n\u001b[0;32m--> 100\u001b[0m result \u001b[38;5;241m=\u001b[39m start_operation(\u001b[43mc_uint8_ptr\u001b[49m\u001b[43m(\u001b[49m\u001b[43mkey\u001b[49m\u001b[43m)\u001b[49m,\n\u001b[1;32m    101\u001b[0m                          c_size_t(\u001b[38;5;28mlen\u001b[39m(key)),\n\u001b[1;32m    102\u001b[0m                          cipher\u001b[38;5;241m.\u001b[39maddress_of())\n\u001b[1;32m    103\u001b[0m \u001b[38;5;28;01mif\u001b[39;00m result:\n\u001b[1;32m    104\u001b[0m     \u001b[38;5;28;01mraise\u001b[39;00m \u001b[38;5;167;01mValueError\u001b[39;00m(\u001b[38;5;124m\"\u001b[39m\u001b[38;5;124mError \u001b[39m\u001b[38;5;132;01m%X\u001b[39;00m\u001b[38;5;124m while instantiating the AES cipher\u001b[39m\u001b[38;5;124m\"\u001b[39m\n\u001b[1;32m    105\u001b[0m                      \u001b[38;5;241m%\u001b[39m result)\n",
      "File \u001b[0;32m~/.local/lib/python3.10/site-packages/Crypto/Util/_raw_api.py:143\u001b[0m, in \u001b[0;36mc_uint8_ptr\u001b[0;34m(data)\u001b[0m\n\u001b[1;32m    141\u001b[0m     \u001b[38;5;28;01mreturn\u001b[39;00m data\n\u001b[1;32m    142\u001b[0m \u001b[38;5;28;01melse\u001b[39;00m:\n\u001b[0;32m--> 143\u001b[0m     \u001b[38;5;28;01mraise\u001b[39;00m \u001b[38;5;167;01mTypeError\u001b[39;00m(\u001b[38;5;124m\"\u001b[39m\u001b[38;5;124mObject type \u001b[39m\u001b[38;5;132;01m%s\u001b[39;00m\u001b[38;5;124m cannot be passed to C code\u001b[39m\u001b[38;5;124m\"\u001b[39m \u001b[38;5;241m%\u001b[39m \u001b[38;5;28mtype\u001b[39m(data))\n",
      "\u001b[0;31mTypeError\u001b[0m: Object type <class 'str'> cannot be passed to C code"
     ]
    }
   ],
   "source": [
    "\n",
    "from Crypto import Random\n",
    "class Encryptor:\n",
    "    def __init__(self, key):\n",
    "        self.key = key\n",
    "    def pad(self, s):\n",
    "        return s + b\"\\0\" * (AES.block_size - len(s) % AES.block_size)\n",
    "\n",
    "    def encrypt(self, message, key):\n",
    "        message = self.pad(message)\n",
    "        key = key.encode('utf-8')\n",
    "        iv = Random.new().read(AES.block_size)\n",
    "        cipher = AES.new(key, AES.MODE_CBC, iv)\n",
    "        return iv + cipher.encrypt(message)\n",
    "\n",
    "    def encrypt_file(self, file_name):\n",
    "        with open(file_name, 'rb') as fo:\n",
    "            plaintext = fo.read()\n",
    "        enc = self.encrypt(plaintext, self.key)\n",
    "        with open(file_name + \".enc\", 'wb') as fo:\n",
    "            fo.write(enc)\n",
    "        os.remove(file_name)\n",
    "\n",
    "        \n",
    "#key = b'LEDMXIQBGNVOJRUI'\n",
    "data1 = os.urandom(16)\n",
    "key=b64encode(data1).decode('utf-8')\n",
    "enc = Encryptor(key)\n",
    "enc.encrypt_file(str(input(\"Enter name of file to encrypt: \")))"
   ]
  },
  {
   "cell_type": "code",
   "execution_count": null,
   "id": "180df597",
   "metadata": {},
   "outputs": [],
   "source": []
  },
  {
   "cell_type": "code",
   "execution_count": null,
   "id": "6e6fc044",
   "metadata": {},
   "outputs": [],
   "source": []
  }
 ],
 "metadata": {
  "kernelspec": {
   "display_name": "Python 3 (ipykernel)",
   "language": "python",
   "name": "python3"
  },
  "language_info": {
   "codemirror_mode": {
    "name": "ipython",
    "version": 3
   },
   "file_extension": ".py",
   "mimetype": "text/x-python",
   "name": "python",
   "nbconvert_exporter": "python",
   "pygments_lexer": "ipython3",
   "version": "3.10.6"
  }
 },
 "nbformat": 4,
 "nbformat_minor": 5
}
