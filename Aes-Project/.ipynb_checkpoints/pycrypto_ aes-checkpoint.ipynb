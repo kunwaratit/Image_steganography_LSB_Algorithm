{
 "cells": [
  {
   "cell_type": "code",
   "execution_count": 3,
   "id": "38b191a2",
   "metadata": {},
   "outputs": [
    {
     "name": "stdout",
     "output_type": "stream",
     "text": [
      "Original Message: This is a secret message that needs to be encrypted.\n",
      "Encrypted Message: Zyccnaq75JbrXLm0ogE9CUmxUhmWw9HpthwL5BF77d2sNof7gDKVJV1lhxhsb+836/MJjIJLCuABRBkYT1tKZaogtES0BfnQkH2lnXLTz0w=\n",
      "Decrypted Message: This is a secret message that needs to be encrypted.\n"
     ]
    }
   ],
   "source": [
    "# Import the required modules\n",
    "import os\n",
    "from Crypto.Cipher import AES\n",
    "from Crypto.Util.Padding import pad, unpad\n",
    "from Crypto.Random import get_random_bytes\n",
    "from base64 import b64encode, b64decode\n",
    "\n",
    "# Define the encryption function\n",
    "def encrypt_AES_CBC_256(key, message):\n",
    "    key_bytes = key.encode('utf-8')\n",
    "    message_bytes = message.encode('utf-8')\n",
    "    iv = get_random_bytes(AES.block_size)\n",
    "    cipher = AES.new(key_bytes, AES.MODE_CBC, iv)\n",
    "    padded_message = pad(message_bytes, AES.block_size)\n",
    "    ciphertext_bytes = cipher.encrypt(padded_message)\n",
    "    ciphertext = b64encode(iv + ciphertext_bytes).decode('utf-8')\n",
    "    return ciphertext\n",
    "\n",
    "# Define the decryption function\n",
    "def decrypt_AES_CBC_256(key, ciphertext):\n",
    "    key_bytes = key.encode('utf-8')\n",
    "    ciphertext_bytes = b64decode(ciphertext)\n",
    "    iv = ciphertext_bytes[:AES.block_size]\n",
    "    cipher = AES.new(key_bytes, AES.MODE_CBC, iv)\n",
    "    ciphertext_bytes = ciphertext_bytes[AES.block_size:]\n",
    "    decrypted_bytes = cipher.decrypt(ciphertext_bytes)\n",
    "    plaintext_bytes = unpad(decrypted_bytes, AES.block_size)\n",
    "    plaintext = plaintext_bytes.decode('utf-8')\n",
    "    return plaintext\n",
    "\n",
    "# Set the 256-bit key and plaintext message\n",
    "#key = 'ThisIsASecretKeyForAES-256-CBCEncryption'\n",
    "data1 = os.urandom(16)\n",
    "key=b64encode(data1).decode('utf-8')\n",
    "message = 'This is a secret message that needs to be encrypted.'\n",
    "\n",
    "# Encrypt the message\n",
    "def encrypt(key,message):\n",
    "    encrypted_message = encrypt_AES_CBC_256(key, message)\n",
    "\n",
    "# Decrypt the message\n",
    "decrypted_message = decrypt_AES_CBC_256(key, encrypted_message)\n",
    "\n",
    "# Print the original and decrypted messages\n",
    "print('Original Message:', message)\n",
    "print('Encrypted Message:', encrypted_message)\n",
    "print('Decrypted Message:', decrypted_message)"
   ]
  },
  {
   "cell_type": "code",
   "execution_count": null,
   "id": "8bcd19ad",
   "metadata": {},
   "outputs": [],
   "source": []
  }
 ],
 "metadata": {
  "kernelspec": {
   "display_name": "Python 3 (ipykernel)",
   "language": "python",
   "name": "python3"
  },
  "language_info": {
   "codemirror_mode": {
    "name": "ipython",
    "version": 3
   },
   "file_extension": ".py",
   "mimetype": "text/x-python",
   "name": "python",
   "nbconvert_exporter": "python",
   "pygments_lexer": "ipython3",
   "version": "3.10.6"
  }
 },
 "nbformat": 4,
 "nbformat_minor": 5
}
