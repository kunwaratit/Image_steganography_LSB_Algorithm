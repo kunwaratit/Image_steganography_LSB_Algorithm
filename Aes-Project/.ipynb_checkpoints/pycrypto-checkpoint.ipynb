{
 "cells": [
  {
   "cell_type": "code",
   "execution_count": null,
   "id": "82ceb6a7",
   "metadata": {},
   "outputs": [],
   "source": []
  },
  {
   "cell_type": "code",
   "execution_count": null,
   "id": "57755eec",
   "metadata": {},
   "outputs": [],
   "source": [
    "pip install Crypto\n"
   ]
  },
  {
   "cell_type": "code",
   "execution_count": 4,
   "id": "a87431ca",
   "metadata": {},
   "outputs": [
    {
     "name": "stderr",
     "output_type": "stream",
     "text": [
      "sh: 1: cls: not found\n"
     ]
    },
    {
     "name": "stdout",
     "output_type": "stream",
     "text": [
      "Setting up stuff. Enter a password that will be used for decryption: 123\n",
      "Confirm password: 123\n"
     ]
    },
    {
     "ename": "TypeError",
     "evalue": "can't concat str to bytes",
     "output_type": "error",
     "traceback": [
      "\u001b[0;31m---------------------------------------------------------------------------\u001b[0m",
      "\u001b[0;31mTypeError\u001b[0m                                 Traceback (most recent call last)",
      "Cell \u001b[0;32mIn[4], line 110\u001b[0m\n\u001b[1;32m    108\u001b[0m f\u001b[38;5;241m.\u001b[39mwrite(password)\n\u001b[1;32m    109\u001b[0m f\u001b[38;5;241m.\u001b[39mclose()\n\u001b[0;32m--> 110\u001b[0m \u001b[43menc\u001b[49m\u001b[38;5;241;43m.\u001b[39;49m\u001b[43mencrypt_file\u001b[49m\u001b[43m(\u001b[49m\u001b[38;5;124;43m\"\u001b[39;49m\u001b[38;5;124;43mdata.txt\u001b[39;49m\u001b[38;5;124;43m\"\u001b[39;49m\u001b[43m)\u001b[49m\n\u001b[1;32m    111\u001b[0m \u001b[38;5;28mprint\u001b[39m(\u001b[38;5;124m\"\u001b[39m\u001b[38;5;124mPlease restart the program to complete the setup\u001b[39m\u001b[38;5;124m\"\u001b[39m)\n\u001b[1;32m    112\u001b[0m time\u001b[38;5;241m.\u001b[39msleep(\u001b[38;5;241m15\u001b[39m)\n",
      "Cell \u001b[0;32mIn[4], line 26\u001b[0m, in \u001b[0;36mEncryptor.encrypt_file\u001b[0;34m(self, file_name)\u001b[0m\n\u001b[1;32m     24\u001b[0m \u001b[38;5;28;01mwith\u001b[39;00m \u001b[38;5;28mopen\u001b[39m(file_name, \u001b[38;5;124m'\u001b[39m\u001b[38;5;124mrb\u001b[39m\u001b[38;5;124m'\u001b[39m) \u001b[38;5;28;01mas\u001b[39;00m fo:\n\u001b[1;32m     25\u001b[0m     plaintext \u001b[38;5;241m=\u001b[39m fo\u001b[38;5;241m.\u001b[39mread()\n\u001b[0;32m---> 26\u001b[0m enc \u001b[38;5;241m=\u001b[39m \u001b[38;5;28;43mself\u001b[39;49m\u001b[38;5;241;43m.\u001b[39;49m\u001b[43mencrypt\u001b[49m\u001b[43m(\u001b[49m\u001b[43mplaintext\u001b[49m\u001b[43m,\u001b[49m\u001b[43m \u001b[49m\u001b[38;5;28;43mself\u001b[39;49m\u001b[38;5;241;43m.\u001b[39;49m\u001b[43mkey\u001b[49m\u001b[43m)\u001b[49m\n\u001b[1;32m     27\u001b[0m \u001b[38;5;28;01mwith\u001b[39;00m \u001b[38;5;28mopen\u001b[39m(file_name \u001b[38;5;241m+\u001b[39m \u001b[38;5;124m\"\u001b[39m\u001b[38;5;124m.enc\u001b[39m\u001b[38;5;124m\"\u001b[39m, \u001b[38;5;124m'\u001b[39m\u001b[38;5;124mwb\u001b[39m\u001b[38;5;124m'\u001b[39m) \u001b[38;5;28;01mas\u001b[39;00m fo:\n\u001b[1;32m     28\u001b[0m     fo\u001b[38;5;241m.\u001b[39mwrite(enc)\n",
      "Cell \u001b[0;32mIn[4], line 18\u001b[0m, in \u001b[0;36mEncryptor.encrypt\u001b[0;34m(self, message, key, key_size)\u001b[0m\n\u001b[1;32m     17\u001b[0m \u001b[38;5;28;01mdef\u001b[39;00m \u001b[38;5;21mencrypt\u001b[39m(\u001b[38;5;28mself\u001b[39m, message, key, key_size\u001b[38;5;241m=\u001b[39m\u001b[38;5;241m256\u001b[39m):\n\u001b[0;32m---> 18\u001b[0m     message \u001b[38;5;241m=\u001b[39m \u001b[38;5;28;43mself\u001b[39;49m\u001b[38;5;241;43m.\u001b[39;49m\u001b[43mpad\u001b[49m\u001b[43m(\u001b[49m\u001b[43mmessage\u001b[49m\u001b[43m)\u001b[49m\n\u001b[1;32m     19\u001b[0m     iv \u001b[38;5;241m=\u001b[39m Random\u001b[38;5;241m.\u001b[39mnew()\u001b[38;5;241m.\u001b[39mread(AES\u001b[38;5;241m.\u001b[39mblock_size)\n\u001b[1;32m     20\u001b[0m     cipher \u001b[38;5;241m=\u001b[39m AES\u001b[38;5;241m.\u001b[39mnew(key, AES\u001b[38;5;241m.\u001b[39mMODE_CBC, iv)\n",
      "Cell \u001b[0;32mIn[4], line 15\u001b[0m, in \u001b[0;36mEncryptor.pad\u001b[0;34m(self, s)\u001b[0m\n\u001b[1;32m     14\u001b[0m \u001b[38;5;28;01mdef\u001b[39;00m \u001b[38;5;21mpad\u001b[39m(\u001b[38;5;28mself\u001b[39m, s):\n\u001b[0;32m---> 15\u001b[0m     \u001b[38;5;28;01mreturn\u001b[39;00m \u001b[43ms\u001b[49m\u001b[43m \u001b[49m\u001b[38;5;241;43m+\u001b[39;49m\u001b[43m \u001b[49m\u001b[38;5;124;43m\"\u001b[39;49m\u001b[38;5;124;43m0\u001b[39;49m\u001b[38;5;124;43m\"\u001b[39;49m\u001b[43m \u001b[49m\u001b[38;5;241;43m*\u001b[39;49m\u001b[43m \u001b[49m\u001b[43m(\u001b[49m\u001b[43mAES\u001b[49m\u001b[38;5;241;43m.\u001b[39;49m\u001b[43mblock_size\u001b[49m\u001b[43m \u001b[49m\u001b[38;5;241;43m-\u001b[39;49m\u001b[43m \u001b[49m\u001b[38;5;28;43mlen\u001b[39;49m\u001b[43m(\u001b[49m\u001b[43ms\u001b[49m\u001b[43m)\u001b[49m\u001b[43m \u001b[49m\u001b[38;5;241;43m%\u001b[39;49m\u001b[43m \u001b[49m\u001b[43mAES\u001b[49m\u001b[38;5;241;43m.\u001b[39;49m\u001b[43mblock_size\u001b[49m\u001b[43m)\u001b[49m\n",
      "\u001b[0;31mTypeError\u001b[0m: can't concat str to bytes"
     ]
    }
   ],
   "source": [
    "from Crypto import Random\n",
    "from Crypto.Cipher import AES\n",
    "import os\n",
    "import os.path\n",
    "from os import listdir\n",
    "from os.path import isfile, join\n",
    "import time\n",
    "\n",
    "\n",
    "class Encryptor:\n",
    "    def __init__(self, key):\n",
    "        self.key = key\n",
    "\n",
    "    def pad(self, s):\n",
    "        return s + \"0\" * (AES.block_size - len(s) % AES.block_size)\n",
    "\n",
    "    def encrypt(self, message, key, key_size=256):\n",
    "        message = self.pad(message)\n",
    "        iv = Random.new().read(AES.block_size)\n",
    "        cipher = AES.new(key, AES.MODE_CBC, iv)\n",
    "        return iv + cipher.encrypt(message)\n",
    "\n",
    "    def encrypt_file(self, file_name):\n",
    "        with open(file_name, 'rb') as fo:\n",
    "            plaintext = fo.read()\n",
    "        enc = self.encrypt(plaintext, self.key)\n",
    "        with open(file_name + \".enc\", 'wb') as fo:\n",
    "            fo.write(enc)\n",
    "        os.remove(file_name)\n",
    "\n",
    "    def decrypt(self, ciphertext, key):\n",
    "        iv = ciphertext[:AES.block_size]\n",
    "        cipher = AES.new(key, AES.MODE_CBC, iv)\n",
    "        plaintext = cipher.decrypt(ciphertext[AES.block_size:])\n",
    "        return plaintext.rstrip(b\"\\0\")\n",
    "\n",
    "    def decrypt_file(self, file_name):\n",
    "        with open(file_name, 'rb') as fo:\n",
    "            ciphertext = fo.read()\n",
    "        dec = self.decrypt(ciphertext, self.key)\n",
    "        with open(file_name[:-4], 'wb') as fo:\n",
    "            fo.write(dec)\n",
    "        os.remove(file_name)\n",
    "\n",
    "    def getAllFiles(self):\n",
    "        dir_path = os.path.dirname(os.path.realpath(__file__))\n",
    "        dirs = []\n",
    "        for dirName, subdirList, fileList in os.walk(dir_path):\n",
    "            for fname in fileList:\n",
    "                if (fname != 'script.py' and fname != 'data.txt.enc'):\n",
    "                    dirs.append(dirName + \"\\\\\" + fname)\n",
    "        return dirs\n",
    "\n",
    "    def encrypt_all_files(self):\n",
    "        dirs = self.getAllFiles()\n",
    "        for file_name in dirs:\n",
    "            self.encrypt_file(file_name)\n",
    "\n",
    "    def decrypt_all_files(self):\n",
    "        dirs = self.getAllFiles()\n",
    "        for file_name in dirs:\n",
    "            self.decrypt_file(file_name)\n",
    "\n",
    "\n",
    "key = b'[EX\\xc8\\xd5\\xbfI{\\xa2$\\x05(\\xd5\\x18\\xbf\\xc0\\x85)\\x10nc\\x94\\x02)j\\xdf\\xcb\\xc4\\x94\\x9d(\\x9e'\n",
    "enc = Encryptor(key)\n",
    "clear = lambda: os.system('cls')\n",
    "\n",
    "if os.path.isfile('data.txt.enc'):\n",
    "    while True:\n",
    "        password = str(input(\"Enter password: \"))\n",
    "        enc.decrypt_file(\"data.txt.enc\")\n",
    "        p = ''\n",
    "        with open(\"data.txt\", \"r\") as f:\n",
    "            p = f.readlines()\n",
    "        if p[0] == password:\n",
    "            enc.encrypt_file(\"data.txt\")\n",
    "            break\n",
    "\n",
    "    while True:\n",
    "        clear()\n",
    "        choice = int(input(\n",
    "            \"1. Press '1' to encrypt file.\\n2. Press '2' to decrypt file.\\n3. Press '3' to Encrypt all files in the directory.\\n4. Press '4' to decrypt all files in the directory.\\n5. Press '5' to exit.\\n\"))\n",
    "        clear()\n",
    "        if choice == 1:\n",
    "            enc.encrypt_file(str(input(\"Enter name of file to encrypt: \")))\n",
    "        elif choice == 2:\n",
    "            enc.decrypt_file(str(input(\"Enter name of file to decrypt: \")))\n",
    "        elif choice == 3:\n",
    "            enc.encrypt_all_files()\n",
    "        elif choice == 4:\n",
    "            enc.decrypt_all_files()\n",
    "        elif choice == 5:\n",
    "            exit()\n",
    "        else:\n",
    "            print(\"Please select a valid option!\")\n",
    "\n",
    "else:\n",
    "    while True:\n",
    "        clear()\n",
    "        password = str(input(\"Setting up stuff. Enter a password that will be used for decryption: \"))\n",
    "        repassword = str(input(\"Confirm password: \"))\n",
    "        if password == repassword:\n",
    "            break\n",
    "        else:\n",
    "            print(\"Passwords Mismatched!\")\n",
    "    f = open(\"data.txt\", \"w+\")\n",
    "    f.write(password)\n",
    "    f.close()\n",
    "    enc.encrypt_file(\"data.txt\")\n",
    "    print(\"Please restart the program to complete the setup\")\n",
    "    time.sleep(15)\n",
    "\n"
   ]
  },
  {
   "cell_type": "code",
   "execution_count": null,
   "id": "43aab735",
   "metadata": {},
   "outputs": [
    {
     "name": "stdout",
     "output_type": "stream",
     "text": [
      "b'LEDMXIQBGNVOJRUI'\n",
      "Enter password: 132\n"
     ]
    },
    {
     "name": "stderr",
     "output_type": "stream",
     "text": [
      "sh: 1: cls: not found\n"
     ]
    },
    {
     "name": "stdout",
     "output_type": "stream",
     "text": [
      "1. Press '1' to encrypt file.\n",
      "2. Press '2' to decrypt file.\n",
      "2\n"
     ]
    },
    {
     "name": "stderr",
     "output_type": "stream",
     "text": [
      "sh: 1: cls: not found\n"
     ]
    },
    {
     "name": "stdout",
     "output_type": "stream",
     "text": [
      "Enter name of file to decrypt: a123.enc\n"
     ]
    },
    {
     "name": "stderr",
     "output_type": "stream",
     "text": [
      "sh: 1: cls: not found\n"
     ]
    },
    {
     "name": "stdout",
     "output_type": "stream",
     "text": [
      "1. Press '1' to encrypt file.\n",
      "2. Press '2' to decrypt file.\n",
      "1\n"
     ]
    },
    {
     "name": "stderr",
     "output_type": "stream",
     "text": [
      "sh: 1: cls: not found\n"
     ]
    },
    {
     "name": "stdout",
     "output_type": "stream",
     "text": [
      "Enter name of file to encrypt: a123\n"
     ]
    },
    {
     "name": "stderr",
     "output_type": "stream",
     "text": [
      "sh: 1: cls: not found\n"
     ]
    },
    {
     "name": "stdout",
     "output_type": "stream",
     "text": [
      "1. Press '1' to encrypt file.\n",
      "2. Press '2' to decrypt file.\n",
      "2\n"
     ]
    },
    {
     "name": "stderr",
     "output_type": "stream",
     "text": [
      "sh: 1: cls: not found\n"
     ]
    },
    {
     "name": "stdout",
     "output_type": "stream",
     "text": [
      "Enter name of file to decrypt: a.enc\n"
     ]
    },
    {
     "name": "stderr",
     "output_type": "stream",
     "text": [
      "sh: 1: cls: not found\n"
     ]
    },
    {
     "name": "stdout",
     "output_type": "stream",
     "text": [
      "1. Press '1' to encrypt file.\n",
      "2. Press '2' to decrypt file.\n",
      "2\n"
     ]
    },
    {
     "name": "stderr",
     "output_type": "stream",
     "text": [
      "sh: 1: cls: not found\n"
     ]
    },
    {
     "name": "stdout",
     "output_type": "stream",
     "text": [
      "Enter name of file to decrypt: a.enc\n"
     ]
    },
    {
     "name": "stderr",
     "output_type": "stream",
     "text": [
      "sh: 1: cls: not found\n"
     ]
    }
   ],
   "source": [
    "from Crypto import Random\n",
    "from Crypto.Cipher import AES\n",
    "import os\n",
    "import secrets\n",
    "import os.path\n",
    "from os import listdir\n",
    "from os.path import isfile, join\n",
    "import time\n",
    "\n",
    "class Encryptor:\n",
    "    def __init__(self, key):\n",
    "        self.key = key\n",
    "    def pad(self, s):\n",
    "        return s + b\"\\0\" * (AES.block_size - len(s) % AES.block_size)\n",
    "\n",
    "    def encrypt(self, message, key, key_size=256):\n",
    "        message = self.pad(message)\n",
    "        iv = Random.new().read(AES.block_size)\n",
    "        cipher = AES.new(key, AES.MODE_CBC, iv)\n",
    "        return iv + cipher.encrypt(message)\n",
    "\n",
    "    def encrypt_file(self, file_name):\n",
    "        with open(file_name, 'rb') as fo:\n",
    "            plaintext = fo.read()\n",
    "        enc = self.encrypt(plaintext, self.key)\n",
    "        with open(file_name + \".enc\", 'wb') as fo:\n",
    "            fo.write(enc)\n",
    "        os.remove(file_name)\n",
    "    def decrypt(self, ciphertext, key):\n",
    "        iv = ciphertext[:AES.block_size]\n",
    "        cipher = AES.new(key, AES.MODE_CBC, iv)\n",
    "        plaintext = cipher.decrypt(ciphertext[AES.block_size:])\n",
    "        return plaintext.rstrip(b\"\\0\")\n",
    "\n",
    "    def decrypt_file(self, file_name):\n",
    "        with open(file_name, 'rb') as fo:\n",
    "            ciphertext = fo.read()\n",
    "        dec = self.decrypt(ciphertext, self.key)\n",
    "        with open(file_name[:-4], 'wb') as fo:\n",
    "            fo.write(dec)\n",
    "        os.remove(file_name)\n",
    "\n",
    "key = b'LEDMXIQBGNVOJRUI'\n",
    "'''\n",
    "from random import choice\n",
    "from string import ascii_uppercase\n",
    "import codecs\n",
    "test = ''.join(choice(ascii_uppercase) for i in range(16))\n",
    "\n",
    "\n",
    "key = codecs.encode(test, 'utf-8')'''\n",
    "#key = b'[EX\\xc8\\xd5\\xbfI{\\xa2$\\x05(\\xd5\\x18\\xbf\\xc0\\x85)\\x10nc\\x94\\x02)j\\xdf\\xcb\\xc4\\x94\\x9d(\\x9e'\n",
    "#key=os.urandom(16)\n",
    "#key = secrets.token_bytes(16)\n",
    "print(key)\n",
    "enc = Encryptor(key)\n",
    "clear = lambda: os.system('cls')\n",
    "if os.path.isfile('data.txt.enc'):\n",
    "    while True:\n",
    "        password = str(input(\"Enter password: \"))\n",
    "        enc.decrypt_file(\"data.txt.enc\")\n",
    "        p = ''\n",
    "        with open(\"data.txt\", \"r\") as f:\n",
    "            p = f.readlines()\n",
    "        if p[0] == password:\n",
    "            enc.encrypt_file(\"data.txt\")\n",
    "            break\n",
    "\n",
    "    while True:\n",
    "        clear()\n",
    "        choice = int(input(\"1. Press '1' to encrypt file.\\n2. Press '2' to decrypt file.\\n\"))\n",
    "        clear()\n",
    "        if choice == 1:\n",
    "            enc.encrypt_file(str(input(\"Enter name of file to encrypt: \")))\n",
    "        elif choice == 2:\n",
    "            enc.decrypt_file(str(input(\"Enter name of file to decrypt: \")))\n",
    "        else:\n",
    "            print(\"Please select a valid option!\")\n",
    "\n",
    "else:\n",
    "    while True:\n",
    "        clear()\n",
    "        password = str(input(\"Setting up stuff. Enter a password that will be used for decryption: \"))\n",
    "        repassword = str(input(\"Confirm password: \"))\n",
    "        if password == repassword:\n",
    "            break\n",
    "        else:\n",
    "            print(\"Passwords Mismatched!\")\n",
    "    f = open(\"data.txt\", \"w+\")\n",
    "    f.write(password)\n",
    "    f.close()\n",
    "    \n",
    "    enc.encrypt_file(\"data.txt\")\n",
    "    print(\"Please restart the program to complete the setup\")\n",
    "    time.sleep(15)\n"
   ]
  },
  {
   "cell_type": "code",
   "execution_count": null,
   "id": "02a3affa",
   "metadata": {},
   "outputs": [],
   "source": [
    "import os\n",
    "key1=os.urandom(16)\n",
    "print(key1)"
   ]
  },
  {
   "cell_type": "markdown",
   "id": "8026248d",
   "metadata": {},
   "source": [
    "# encrypt file"
   ]
  },
  {
   "cell_type": "code",
   "execution_count": null,
   "id": "0c48f4fa",
   "metadata": {},
   "outputs": [],
   "source": [
    "\n",
    "\n",
    "\n",
    "from Crypto import Random\n",
    "class Encryptor:\n",
    "    def __init__(self, key):\n",
    "        self.key = key\n",
    "    def pad(self, s):\n",
    "        return s + b\"\\0\" * (AES.block_size - len(s) % AES.block_size)\n",
    "\n",
    "    def encrypt(self, message, key):\n",
    "        message = self.pad(message)\n",
    "        iv = Random.new().read(AES.block_size)\n",
    "        cipher = AES.new(key, AES.MODE_CBC, iv)\n",
    "        return iv + cipher.encrypt(message)\n",
    "\n",
    "    def encrypt_file(self, file_name):\n",
    "        with open(file_name, 'rb') as fo:\n",
    "            plaintext = fo.read()\n",
    "        enc = self.encrypt(plaintext, self.key)\n",
    "        with open(file_name + \".enc\", 'wb') as fo:\n",
    "            fo.write(enc)\n",
    "        os.remove(file_name)\n",
    "\n",
    "        \n",
    "key = b'LEDMXIQBGNVOJRUI'\n",
    "enc = Encryptor(key)\n",
    "enc.encrypt_file(str(input(\"Enter name of file to encrypt: \")))"
   ]
  },
  {
   "cell_type": "code",
   "execution_count": null,
   "id": "c32b32b8",
   "metadata": {},
   "outputs": [],
   "source": []
  },
  {
   "cell_type": "code",
   "execution_count": null,
   "id": "62f0b850",
   "metadata": {},
   "outputs": [],
   "source": []
  }
 ],
 "metadata": {
  "kernelspec": {
   "display_name": "Python 3 (ipykernel)",
   "language": "python",
   "name": "python3"
  },
  "language_info": {
   "codemirror_mode": {
    "name": "ipython",
    "version": 3
   },
   "file_extension": ".py",
   "mimetype": "text/x-python",
   "name": "python",
   "nbconvert_exporter": "python",
   "pygments_lexer": "ipython3",
   "version": "3.10.6"
  }
 },
 "nbformat": 4,
 "nbformat_minor": 5
}
